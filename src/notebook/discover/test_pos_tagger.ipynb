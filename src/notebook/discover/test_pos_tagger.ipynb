{
 "cells": [
  {
   "cell_type": "code",
   "execution_count": 21,
   "id": "initial_id",
   "metadata": {
    "collapsed": true,
    "ExecuteTime": {
     "end_time": "2023-11-01T12:42:42.529126600Z",
     "start_time": "2023-11-01T12:42:42.528129200Z"
    }
   },
   "outputs": [],
   "source": [
    "import nltk\n",
    "from nltk.tag import StanfordPOSTagger\n",
    "from nltk.tokenize import word_tokenize\n",
    "from pathlib import Path"
   ]
  },
  {
   "cell_type": "code",
   "execution_count": 22,
   "outputs": [],
   "source": [
    "stanford_dir = \"../../data/pos_tagger/stanford-postagger/\"\n",
    "modelfile = stanford_dir + \"models/french-ud.tagger\"\n",
    "jarfile = stanford_dir + \"stanford-postagger-4.2.0.jar\""
   ],
   "metadata": {
    "collapsed": false,
    "ExecuteTime": {
     "end_time": "2023-11-01T12:42:42.790485400Z",
     "start_time": "2023-11-01T12:42:42.788481500Z"
    }
   },
   "id": "901841a4c91b151e"
  },
  {
   "cell_type": "code",
   "execution_count": 23,
   "outputs": [
    {
     "data": {
      "text/plain": "True"
     },
     "execution_count": 23,
     "metadata": {},
     "output_type": "execute_result"
    }
   ],
   "source": [
    "Path(jarfile).exists()"
   ],
   "metadata": {
    "collapsed": false,
    "ExecuteTime": {
     "end_time": "2023-11-01T12:42:43.023869100Z",
     "start_time": "2023-11-01T12:42:43.015869500Z"
    }
   },
   "id": "11c541afea2c7286"
  },
  {
   "cell_type": "code",
   "execution_count": 24,
   "outputs": [],
   "source": [
    "tagger = StanfordPOSTagger(model_filename=modelfile, path_to_jar=jarfile)\n"
   ],
   "metadata": {
    "collapsed": false,
    "ExecuteTime": {
     "end_time": "2023-11-01T12:42:43.429526200Z",
     "start_time": "2023-11-01T12:42:43.413526400Z"
    }
   },
   "id": "449d589097aa3fc9"
  },
  {
   "cell_type": "code",
   "execution_count": 25,
   "outputs": [],
   "source": [
    "french_sentence = \"comme les modèles de langage neuronal\""
   ],
   "metadata": {
    "collapsed": false,
    "ExecuteTime": {
     "end_time": "2023-11-01T12:43:56.339543300Z",
     "start_time": "2023-11-01T12:43:56.338492900Z"
    }
   },
   "id": "684bac911f14d3d0"
  },
  {
   "cell_type": "code",
   "execution_count": 27,
   "outputs": [],
   "source": [
    "tokens = word_tokenize(french_sentence)"
   ],
   "metadata": {
    "collapsed": false,
    "ExecuteTime": {
     "end_time": "2023-11-01T12:44:01.210805300Z",
     "start_time": "2023-11-01T12:44:01.132474Z"
    }
   },
   "id": "3150c9a1686791ac"
  },
  {
   "cell_type": "code",
   "execution_count": 28,
   "outputs": [
    {
     "data": {
      "text/plain": "['comme', 'les', 'modèles', 'de', 'langage', 'neuronal']"
     },
     "execution_count": 28,
     "metadata": {},
     "output_type": "execute_result"
    }
   ],
   "source": [
    "tokens"
   ],
   "metadata": {
    "collapsed": false,
    "ExecuteTime": {
     "end_time": "2023-11-01T12:44:03.437721600Z",
     "start_time": "2023-11-01T12:44:03.430718Z"
    }
   },
   "id": "5019a8f1037c5271"
  },
  {
   "cell_type": "code",
   "execution_count": 29,
   "outputs": [],
   "source": [
    "tagged = tagger.tag(tokens)"
   ],
   "metadata": {
    "collapsed": false,
    "ExecuteTime": {
     "end_time": "2023-11-01T12:44:15.585330400Z",
     "start_time": "2023-11-01T12:44:15.153511300Z"
    }
   },
   "id": "5363ba8fe901bcae"
  },
  {
   "cell_type": "code",
   "execution_count": 30,
   "outputs": [
    {
     "data": {
      "text/plain": "[('comme', 'ADP'),\n ('les', 'DET'),\n ('modèles', 'NOUN'),\n ('de', 'ADP'),\n ('langage', 'NOUN'),\n ('neuronal', 'ADJ')]"
     },
     "execution_count": 30,
     "metadata": {},
     "output_type": "execute_result"
    }
   ],
   "source": [
    "tagged"
   ],
   "metadata": {
    "collapsed": false,
    "ExecuteTime": {
     "end_time": "2023-11-01T12:44:18.225745Z",
     "start_time": "2023-11-01T12:44:18.218744200Z"
    }
   },
   "id": "5071d8c0622acba5"
  },
  {
   "cell_type": "code",
   "execution_count": null,
   "outputs": [],
   "source": [],
   "metadata": {
    "collapsed": false
   },
   "id": "ae8ef554e0101b1d"
  }
 ],
 "metadata": {
  "kernelspec": {
   "display_name": "Python 3",
   "language": "python",
   "name": "python3"
  },
  "language_info": {
   "codemirror_mode": {
    "name": "ipython",
    "version": 2
   },
   "file_extension": ".py",
   "mimetype": "text/x-python",
   "name": "python",
   "nbconvert_exporter": "python",
   "pygments_lexer": "ipython2",
   "version": "2.7.6"
  }
 },
 "nbformat": 4,
 "nbformat_minor": 5
}
