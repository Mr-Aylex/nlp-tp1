{
 "cells": [
  {
   "cell_type": "code",
   "execution_count": null,
   "outputs": [],
   "source": [
    "!pip install torch torchvision torchaudio --index-url https://download.pytorch.org/whl/cpu protobuf"
   ],
   "metadata": {
    "collapsed": false
   },
   "id": "26fb8286600265d6"
  },
  {
   "cell_type": "code",
   "execution_count": null,
   "outputs": [],
   "source": [
    "# https://huggingface.co/Jean-Baptiste/camembert-ner"
   ],
   "metadata": {
    "collapsed": false
   },
   "id": "7af2ecf168d9c58a"
  },
  {
   "cell_type": "code",
   "execution_count": 1,
   "id": "initial_id",
   "metadata": {
    "collapsed": true,
    "ExecuteTime": {
     "end_time": "2023-11-01T15:00:55.707506600Z",
     "start_time": "2023-11-01T15:00:55.159794800Z"
    }
   },
   "outputs": [
    {
     "name": "stderr",
     "output_type": "stream",
     "text": [
      "/home/dev/miniconda3/envs/nlp/lib/python3.11/site-packages/tqdm/auto.py:21: TqdmWarning: IProgress not found. Please update jupyter and ipywidgets. See https://ipywidgets.readthedocs.io/en/stable/user_install.html\n",
      "  from .autonotebook import tqdm as notebook_tqdm\n"
     ]
    }
   ],
   "source": [
    "from transformers import AutoTokenizer, AutoModelForTokenClassification"
   ]
  },
  {
   "cell_type": "code",
   "execution_count": 2,
   "outputs": [],
   "source": [
    "# Use a pipeline as a high-level helper\n",
    "from transformers import pipeline\n",
    "\n",
    "pipe = pipeline(\"token-classification\", model=\"Jean-Baptiste/camembert-ner\", use_fast=False)"
   ],
   "metadata": {
    "collapsed": false,
    "ExecuteTime": {
     "end_time": "2023-11-01T15:00:57.950184300Z",
     "start_time": "2023-11-01T15:00:55.705506200Z"
    }
   },
   "id": "8d6813730f00e7c1"
  },
  {
   "cell_type": "code",
   "execution_count": 4,
   "outputs": [
    {
     "data": {
      "text/plain": "[{'entity_group': 'LOC',\n  'score': 0.91383874,\n  'word': 'La France',\n  'start': 0,\n  'end': 9},\n {'entity_group': 'LOC',\n  'score': 0.8178989,\n  'word': 'Punta Cana',\n  'start': 20,\n  'end': 31},\n {'entity_group': 'PER',\n  'score': 0.99891216,\n  'word': 'Tanguy Pastureau',\n  'start': 47,\n  'end': 64}]"
     },
     "execution_count": 4,
     "metadata": {},
     "output_type": "execute_result"
    }
   ],
   "source": [
    "from transformers import AutoTokenizer, AutoModelForTokenClassification\n",
    "\n",
    "tokenizer = AutoTokenizer.from_pretrained(\"Jean-Baptiste/camembert-ner\")\n",
    "model = AutoModelForTokenClassification.from_pretrained(\"Jean-Baptiste/camembert-ner\")\n",
    "\n",
    "\n",
    "##### Process text sample (from wikipedia)\n",
    "\n",
    "from transformers import pipeline\n",
    "\n",
    "nlp = pipeline('ner', model=model, tokenizer=tokenizer, aggregation_strategy=\"simple\")\n",
    "nlp(\"La France ce nouveau Punta Cana en plus chaud - Tanguy Pastureau maltraite l'info\")"
   ],
   "metadata": {
    "collapsed": false,
    "ExecuteTime": {
     "end_time": "2023-11-01T15:01:58.271397200Z",
     "start_time": "2023-11-01T15:01:57.153056500Z"
    }
   },
   "id": "6b7d9cad8ed83e7b"
  },
  {
   "cell_type": "code",
   "execution_count": 13,
   "outputs": [],
   "source": [
    "texts = [\"tset\", \"nouveau Punta Cana en\", \"Tanguy Pastureau maltraite l'info\"]"
   ],
   "metadata": {
    "collapsed": false,
    "ExecuteTime": {
     "end_time": "2023-11-01T15:31:06.328089400Z",
     "start_time": "2023-11-01T15:31:06.326090100Z"
    }
   },
   "id": "18d09a5fcabe5046"
  },
  {
   "cell_type": "code",
   "execution_count": 19,
   "outputs": [],
   "source": [
    "encoded_texts = [tokenizer.encode(text, max_length=32, padding='max_length', truncation=True) for text in texts]\n"
   ],
   "metadata": {
    "collapsed": false,
    "ExecuteTime": {
     "end_time": "2023-11-01T15:31:57.900837300Z",
     "start_time": "2023-11-01T15:31:57.893837Z"
    }
   },
   "id": "daaffce6c8f9cd87"
  },
  {
   "cell_type": "code",
   "execution_count": null,
   "outputs": [],
   "source": [],
   "metadata": {
    "collapsed": false
   },
   "id": "8f4a5a2e05647ad"
  }
 ],
 "metadata": {
  "kernelspec": {
   "display_name": "Python 3",
   "language": "python",
   "name": "python3"
  },
  "language_info": {
   "codemirror_mode": {
    "name": "ipython",
    "version": 2
   },
   "file_extension": ".py",
   "mimetype": "text/x-python",
   "name": "python",
   "nbconvert_exporter": "python",
   "pygments_lexer": "ipython2",
   "version": "2.7.6"
  }
 },
 "nbformat": 4,
 "nbformat_minor": 5
}
