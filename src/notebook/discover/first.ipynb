{
 "cells": [
  {
   "cell_type": "code",
   "execution_count": null,
   "id": "initial_id",
   "metadata": {
    "collapsed": true
   },
   "outputs": [],
   "source": [
    "import pandas as pd\n",
    "from nltk.corpus import stopwords\n",
    "from nltk.stem.snowball import FrenchStemmer\n",
    "from nltk.tokenize import word_tokenize\n",
    "from nltk.util import ngrams\n",
    "import numpy as np"
   ]
  },
  {
   "cell_type": "code",
   "execution_count": null,
   "outputs": [],
   "source": [
    "train = pd.read_csv('../../data/raw/train.csv')"
   ],
   "metadata": {
    "collapsed": false
   },
   "id": "dc31e751ca18b31d"
  },
  {
   "cell_type": "code",
   "execution_count": null,
   "outputs": [],
   "source": [
    "train"
   ],
   "metadata": {
    "collapsed": false
   },
   "id": "be8c9be3c6a41543"
  },
  {
   "cell_type": "code",
   "execution_count": null,
   "outputs": [],
   "source": [],
   "metadata": {
    "collapsed": false
   },
   "id": "fe97c4ca7a54d7f8"
  },
  {
   "cell_type": "code",
   "execution_count": null,
   "outputs": [],
   "source": [
    "train['is_name'] = train['is_name'].apply(lambda x: np.fromstring(x[1:-1], dtype=np.int32, sep=',')) #np.array(x[1:-1].replace(' ', '').split(','))\n"
   ],
   "metadata": {
    "collapsed": false
   },
   "id": "6e9e93809bd530c0"
  },
  {
   "cell_type": "code",
   "execution_count": null,
   "outputs": [],
   "source": [
    "train['is_name']"
   ],
   "metadata": {
    "collapsed": false
   },
   "id": "ee044075cd32b7f8"
  },
  {
   "cell_type": "code",
   "execution_count": null,
   "outputs": [],
   "source": [
    "train['comic_name'] = train['comic_name'].apply(lambda x: x[1:-1].split(','))\n",
    "train['is_name'] = train['is_name'].apply(lambda x: x[1:-1].replace(' ','').split(','))"
   ],
   "metadata": {
    "collapsed": false
   },
   "id": "c4578269989369b0"
  },
  {
   "cell_type": "code",
   "execution_count": null,
   "outputs": [],
   "source": [
    "train['is']"
   ],
   "metadata": {
    "collapsed": false
   },
   "id": "8b8ac98044e571d2"
  },
  {
   "cell_type": "code",
   "execution_count": null,
   "outputs": [],
   "source": [
    "stop_words = set(stopwords.words('french'))\n",
    "def tokenize(x):\n",
    "    return word_tokenize(x, language='french')\n",
    "\n",
    "def delete_stopwords(sentence, is_name: list):\n",
    "    \"\"\"\n",
    "    sentence is string\n",
    "    is_name is list of bool, if 1 then the word is a name else it is not\n",
    "    :param sentence: \n",
    "    :param is_name: \n",
    "    :return: \n",
    "    \"\"\"\n",
    "    return [(word,is_name) for word, is_name in zip(sentence, is_name) if word not in stop_words]\n",
    "\n",
    "stemmer = FrenchStemmer()\n",
    "def stem(x):\n",
    "    return [stemmer.stem(word) for word in x]\n",
    "\n",
    "def tree_grams(x):\n",
    "    return list(ngrams(x, 3))\n"
   ],
   "metadata": {
    "collapsed": false
   },
   "id": "e1eb7842e65ff8fa"
  },
  {
   "cell_type": "code",
   "execution_count": null,
   "outputs": [],
   "source": [
    "train['is_name'] = train['is_name'].apply(lambda x: np.fromstring(x, dtype=np.int32, sep=',')) #np.array(x[1:-1].replace(' ', '').split(','))\n"
   ],
   "metadata": {
    "collapsed": false
   },
   "id": "7f51556d7faf2b61"
  },
  {
   "cell_type": "code",
   "execution_count": null,
   "outputs": [],
   "source": [
    "train['video_name'] = train['video_name'].apply(lambda x: stem(delete_stopwords(tokenize(x))))"
   ],
   "metadata": {
    "collapsed": false
   },
   "id": "4ecc2f78558c6ace"
  },
  {
   "cell_type": "code",
   "execution_count": null,
   "outputs": [],
   "source": [
    "train['video_name']"
   ],
   "metadata": {
    "collapsed": false
   },
   "id": "25b442216c987043"
  },
  {
   "cell_type": "code",
   "execution_count": null,
   "outputs": [],
   "source": [],
   "metadata": {
    "collapsed": false
   },
   "id": "9e7c4fe393de15d2"
  }
 ],
 "metadata": {
  "kernelspec": {
   "display_name": "Python 3",
   "language": "python",
   "name": "python3"
  },
  "language_info": {
   "codemirror_mode": {
    "name": "ipython",
    "version": 2
   },
   "file_extension": ".py",
   "mimetype": "text/x-python",
   "name": "python",
   "nbconvert_exporter": "python",
   "pygments_lexer": "ipython2",
   "version": "2.7.6"
  }
 },
 "nbformat": 4,
 "nbformat_minor": 5
}
